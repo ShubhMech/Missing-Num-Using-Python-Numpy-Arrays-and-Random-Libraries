{
 "cells": [
  {
   "cell_type": "markdown",
   "id": "432a05f0-e184-4534-b9c9-5a55bcdc597f",
   "metadata": {},
   "source": [
    "### Code to find the missing number:"
   ]
  },
  {
   "cell_type": "code",
   "execution_count": 2,
   "id": "b7f87341-8e2f-4d2c-86f1-53b7bd4418cf",
   "metadata": {},
   "outputs": [],
   "source": [
    "import numpy as np\n",
    "def missing_num(n):\n",
    "    last_num= n[0,-1]\n",
    "    sum_of_seq= last_num*(last_num+1)/2\n",
    "    sum_= sum(n)\n",
    "    return sum_of_seq-sum_\n",
    "    "
   ]
  },
  {
   "cell_type": "code",
   "execution_count": 5,
   "id": "fbf66f3c-f010-4324-af8c-1fe33c96a3b3",
   "metadata": {},
   "outputs": [],
   "source": [
    "from array import *\n",
    "n= range(0,101)\n",
    "n = array('i',n)"
   ]
  },
  {
   "cell_type": "code",
   "execution_count": 6,
   "id": "865a7ade-b78f-4ab8-87ba-9105bb895926",
   "metadata": {},
   "outputs": [
    {
     "data": {
      "text/plain": [
       "array('i', [0, 1, 2, 3, 4, 5, 6, 7, 8, 9, 10, 11, 12, 13, 14, 15, 16, 17, 18, 19, 20, 21, 22, 23, 24, 25, 26, 27, 28, 29, 30, 31, 32, 33, 34, 35, 36, 37, 38, 39, 40, 41, 42, 43, 44, 45, 46, 47, 48, 49, 50, 51, 52, 53, 54, 55, 56, 57, 58, 59, 60, 61, 62, 63, 64, 65, 66, 67, 68, 69, 70, 71, 72, 73, 74, 75, 76, 77, 78, 79, 80, 81, 82, 83, 84, 85, 86, 87, 88, 89, 90, 91, 92, 93, 94, 95, 96, 97, 98, 99, 100])"
      ]
     },
     "execution_count": 6,
     "metadata": {},
     "output_type": "execute_result"
    }
   ],
   "source": [
    "ran"
   ]
  },
  {
   "cell_type": "code",
   "execution_count": null,
   "id": "eed9c91d-1a9e-49f0-9799-55659b1df10f",
   "metadata": {},
   "outputs": [],
   "source": []
  }
 ],
 "metadata": {
  "kernelspec": {
   "display_name": "Python 3",
   "language": "python",
   "name": "python3"
  },
  "language_info": {
   "codemirror_mode": {
    "name": "ipython",
    "version": 3
   },
   "file_extension": ".py",
   "mimetype": "text/x-python",
   "name": "python",
   "nbconvert_exporter": "python",
   "pygments_lexer": "ipython3",
   "version": "3.8.5"
  }
 },
 "nbformat": 4,
 "nbformat_minor": 5
}
